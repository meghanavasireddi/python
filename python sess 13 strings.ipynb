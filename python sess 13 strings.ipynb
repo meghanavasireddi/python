{
 "cells": [
  {
   "cell_type": "markdown",
   "id": "b0bfcdb7-0b32-41bd-b96a-f686bd293de1",
   "metadata": {},
   "source": [
    "- strings \n",
    "\n",
    "- lists\n",
    "\n",
    "- dictionary\n",
    "\n",
    "- tuples\n",
    "\n",
    "- sets\n",
    "\n",
    "- lambda functions\n",
    "\n",
    "- file handling"
   ]
  },
  {
   "cell_type": "markdown",
   "id": "d740dcc8-85d2-4776-a5c8-fe57d19c5cac",
   "metadata": {},
   "source": [
    "## string\n",
    "\n",
    "- strings can intialze in three ways\n",
    "\n",
    "- single quotes\n",
    "\n",
    "    - very common way to present\n",
    "\n",
    "- double quotes\n",
    "\n",
    "    - very common way to present\n",
    "      \n",
    "- triple quotes\n",
    "\n",
    "    - triple quotes means **doc string** \n",
    "   "
   ]
  },
  {
   "cell_type": "code",
   "execution_count": 1,
   "id": "22ca2953-b73a-4012-9b2e-116746baf6a9",
   "metadata": {},
   "outputs": [
    {
     "data": {
      "text/plain": [
       "'meghana'"
      ]
     },
     "execution_count": 1,
     "metadata": {},
     "output_type": "execute_result"
    }
   ],
   "source": [
    "str=\"meghana\"\n",
    "str"
   ]
  },
  {
   "cell_type": "code",
   "execution_count": null,
   "id": "2d1b0b60-4986-4011-b2e0-7baf2c963c6e",
   "metadata": {},
   "outputs": [],
   "source": []
  },
  {
   "cell_type": "code",
   "execution_count": 3,
   "id": "9466011f-2798-48e1-b5cb-f4655aacab55",
   "metadata": {},
   "outputs": [
    {
     "data": {
      "text/plain": [
       "'python'"
      ]
     },
     "execution_count": 3,
     "metadata": {},
     "output_type": "execute_result"
    }
   ],
   "source": [
    "str1='python'\n",
    "str1"
   ]
  },
  {
   "cell_type": "code",
   "execution_count": 4,
   "id": "f80d2c63-4c6c-4c42-9fd3-4546b8d879bd",
   "metadata": {},
   "outputs": [],
   "source": [
    "srt2=\"meghana\"\n",
    "str3=\"30\"\n",
    "str4='True'\n",
    "str5='&%'"
   ]
  },
  {
   "cell_type": "markdown",
   "id": "575217fb-7dfb-438e-bd1a-06597945e29b",
   "metadata": {},
   "source": [
    "**Triple quotes**\n",
    "\n",
    "- triple quotes is used to convey the information\n",
    "\n",
    "- it is also called as **doc string**\n",
    "\n",
    "- it is also called as **multiline**"
   ]
  },
  {
   "cell_type": "code",
   "execution_count": 9,
   "id": "365cb58f-29d2-475b-afa1-780a61ed5cfb",
   "metadata": {},
   "outputs": [
    {
     "name": "stdout",
     "output_type": "stream",
     "text": [
      "hello how are you\n",
      "        I'm good\n"
     ]
    }
   ],
   "source": [
    "str6=\"\"\"hello how are you\n",
    "        I'm good\"\"\"\n",
    "print(str6 )"
   ]
  },
  {
   "cell_type": "code",
   "execution_count": 11,
   "id": "a6dcf1c6-5a48-484a-80fc-a363ba4c32ef",
   "metadata": {},
   "outputs": [
    {
     "data": {
      "text/plain": [
       "\"i like 'python'\""
      ]
     },
     "execution_count": 11,
     "metadata": {},
     "output_type": "execute_result"
    }
   ],
   "source": [
    "str7=\"i like 'python'\"\n",
    "str7"
   ]
  },
  {
   "cell_type": "markdown",
   "id": "3f19bc6f-50c4-409c-b0b3-4cc794831aa2",
   "metadata": {},
   "source": [
    "- type\n",
    "\n",
    "- print\n",
    "\n",
    "- len\n",
    "\n",
    "- max\n",
    "\n",
    "- min\n",
    "\n",
    "- reversed\n",
    "\n",
    "- sorted\n",
    "\n",
    "- in \n",
    "\n",
    "- index\n",
    "\n",
    "- slice"
   ]
  },
  {
   "cell_type": "markdown",
   "id": "b189890a-2963-426a-99bc-95216c358bbd",
   "metadata": {},
   "source": [
    "**type operator**\n",
    "\n",
    "- type is the keyword , it will give the type of value"
   ]
  },
  {
   "cell_type": "code",
   "execution_count": 13,
   "id": "31e76c58-3a69-4c0b-8347-4c45575200d7",
   "metadata": {},
   "outputs": [
    {
     "data": {
      "text/plain": [
       "str"
      ]
     },
     "execution_count": 13,
     "metadata": {},
     "output_type": "execute_result"
    }
   ],
   "source": [
    "str1='python'\n",
    "type(str1)"
   ]
  },
  {
   "cell_type": "markdown",
   "id": "3c2b3099-bbd7-4b58-9bf8-74da662c629c",
   "metadata": {},
   "source": [
    "**what is the dfferent between keywords and package methods**\n",
    "\n",
    "- keyword is a reserved word\n",
    "\n",
    "- different methods are avaliable on different packages \n",
    "\n",
    "- we have limited keywords are there: 35 keywords are there these are fixed\n",
    "\n",
    "- whatever the keyword: keyword(value)\n",
    "\n",
    "- before key word there is no another statements\n",
    "\n",
    "    - eval()\n",
    " \n",
    "    - input()\n",
    " \n",
    "    - type()\n",
    " \n",
    "    - print()\n",
    " \n",
    "    - range()\n",
    " \n",
    "- if  you want to use the methods\n",
    "\n",
    "    - you need to import the package first\n",
    "\n",
    "    - package name.method name\n"
   ]
  },
  {
   "cell_type": "markdown",
   "id": "38daa5ad-06ff-4c40-9560-35860d1584f9",
   "metadata": {},
   "source": [
    "**len**"
   ]
  },
  {
   "cell_type": "code",
   "execution_count": 14,
   "id": "206ef6ad-1aaa-496e-bd35-4eb697b39361",
   "metadata": {},
   "outputs": [
    {
     "data": {
      "text/plain": [
       "6"
      ]
     },
     "execution_count": 14,
     "metadata": {},
     "output_type": "execute_result"
    }
   ],
   "source": [
    "len('python')"
   ]
  },
  {
   "cell_type": "code",
   "execution_count": 21,
   "id": "0e2f2223-224d-4b2a-8883-a5c553cd9916",
   "metadata": {},
   "outputs": [
    {
     "data": {
      "text/plain": [
       "7"
      ]
     },
     "execution_count": 21,
     "metadata": {},
     "output_type": "execute_result"
    }
   ],
   "source": [
    "len(\"       \")"
   ]
  },
  {
   "cell_type": "markdown",
   "id": "760ae3ea-f71c-4fb2-9215-f252dbf38e73",
   "metadata": {},
   "source": [
    "**min**\n",
    "\n",
    "- it will retrive the minimum character based on ascii value"
   ]
  },
  {
   "cell_type": "code",
   "execution_count": 15,
   "id": "99412582-d4fb-4719-b854-0d6f1962b18a",
   "metadata": {},
   "outputs": [
    {
     "data": {
      "text/plain": [
       "'h'"
      ]
     },
     "execution_count": 15,
     "metadata": {},
     "output_type": "execute_result"
    }
   ],
   "source": [
    "min('python')"
   ]
  },
  {
   "cell_type": "markdown",
   "id": "8be4e2d5-f70d-426f-8cb4-d27b41476135",
   "metadata": {},
   "source": [
    "**max**\n",
    "\n",
    "-  it will retrive the maximum character based on ascii value"
   ]
  },
  {
   "cell_type": "code",
   "execution_count": 16,
   "id": "2c88e072-1d3f-48a0-b3c3-d0112f508539",
   "metadata": {},
   "outputs": [
    {
     "data": {
      "text/plain": [
       "'y'"
      ]
     },
     "execution_count": 16,
     "metadata": {},
     "output_type": "execute_result"
    }
   ],
   "source": [
    "max('python')"
   ]
  },
  {
   "cell_type": "markdown",
   "id": "3749c6f6-7ff9-4fb1-aad4-3be30d779832",
   "metadata": {},
   "source": [
    "**sum**\n",
    "\n",
    "- general it will return the sum of the values\n",
    "\n",
    "- it will not works for string\n",
    "\n",
    "- it will works for numbers                "
   ]
  },
  {
   "cell_type": "code",
   "execution_count": null,
   "id": "15e5fa64-1cc2-4791-9b2a-7c10ce099e78",
   "metadata": {},
   "outputs": [],
   "source": [
    "**reverse**\n",
    "\n",
    "**note**\n",
    "\n",
    "- whenever you see the output inside the greater than and less than symbol\n",
    "\n",
    "- means the output is stored inside that\n",
    "\n",
    "- it is nothing but a **iterator**\n",
    "\n",
    "- iterator means "
   ]
  },
  {
   "cell_type": "code",
   "execution_count": 22,
   "id": "53508e7b-39ed-4794-8502-5d08736b8e8d",
   "metadata": {},
   "outputs": [
    {
     "name": "stdout",
     "output_type": "stream",
     "text": [
      "n\n",
      "o\n",
      "h\n",
      "t\n",
      "y\n",
      "p\n"
     ]
    }
   ],
   "source": [
    "str1=reversed(\"python\")\n",
    "for i in str1:\n",
    "    print(i)"
   ]
  },
  {
   "cell_type": "markdown",
   "id": "1e49cde3-3d58-434e-934c-09720e12b19c",
   "metadata": {},
   "source": [
    "**sorted**\n",
    "\n",
    "- sorted will give the output ascending order or decending order based on ascii value\n",
    "\n",
    "- sorted has one argument called reverse \n",
    "\n",
    "- it is default argument with value false \n",
    "\n",
    "- false means it returns in ascending order\n",
    "\n",
    "- now give reverse = true \n",
    "\n",
    "- if you see any / donot assign any argument before the slash"
   ]
  },
  {
   "cell_type": "code",
   "execution_count": 28,
   "id": "564cf42e-4d00-4dec-a534-a90919ed7a91",
   "metadata": {},
   "outputs": [
    {
     "data": {
      "text/plain": [
       "['h', 'n', 'o', 'p', 't', 'y']"
      ]
     },
     "execution_count": 28,
     "metadata": {},
     "output_type": "execute_result"
    }
   ],
   "source": [
    "sorted(\"python\")"
   ]
  },
  {
   "cell_type": "code",
   "execution_count": 32,
   "id": "6fe5e95a-c8bf-453d-9e0b-101bd07b78b2",
   "metadata": {},
   "outputs": [
    {
     "data": {
      "text/plain": [
       "['y', 't', 'p', 'o', 'n', 'h']"
      ]
     },
     "execution_count": 32,
     "metadata": {},
     "output_type": "execute_result"
    }
   ],
   "source": [
    "sorted(\"python\",reverse=True)"
   ]
  },
  {
   "cell_type": "code",
   "execution_count": 43,
   "id": "8eec495f-1992-407b-be98-021fc35f2c8a",
   "metadata": {},
   "outputs": [
    {
     "data": {
      "text/plain": [
       "(2+4j)"
      ]
     },
     "execution_count": 43,
     "metadata": {},
     "output_type": "execute_result"
    }
   ],
   "source": [
    "complex(real=2,imag=4)"
   ]
  },
  {
   "cell_type": "code",
   "execution_count": 51,
   "id": "cbefa7b3-bd2c-4064-90e9-92880e10aaad",
   "metadata": {},
   "outputs": [
    {
     "data": {
      "text/plain": [
       "0j"
      ]
     },
     "execution_count": 51,
     "metadata": {},
     "output_type": "execute_result"
    }
   ],
   "source": [
    "complex() # it is written\n"
   ]
  },
  {
   "cell_type": "code",
   "execution_count": 48,
   "id": "af7a210f-42dc-48d8-a1a3-993e3e0ed4da",
   "metadata": {},
   "outputs": [
    {
     "data": {
      "text/plain": [
       "(2+4j)"
      ]
     },
     "execution_count": 48,
     "metadata": {},
     "output_type": "execute_result"
    }
   ],
   "source": [
    "complex(2,4) # w"
   ]
  },
  {
   "cell_type": "code",
   "execution_count": 49,
   "id": "550b477c-9b7f-430b-be43-356d85f7844d",
   "metadata": {},
   "outputs": [
    {
     "data": {
      "text/plain": [
       "(2+5j)"
      ]
     },
     "execution_count": 49,
     "metadata": {},
     "output_type": "execute_result"
    }
   ],
   "source": [
    "complex(real=2,imag=5) # w"
   ]
  },
  {
   "cell_type": "code",
   "execution_count": 52,
   "id": "3c904a89-d1b8-4608-995e-77577b1ac593",
   "metadata": {},
   "outputs": [
    {
     "ename": "SyntaxError",
     "evalue": "positional argument follows keyword argument (1036922955.py, line 1)",
     "output_type": "error",
     "traceback": [
      "\u001b[1;36m  Cell \u001b[1;32mIn[52], line 1\u001b[1;36m\u001b[0m\n\u001b[1;33m    complex(real=2,5) # w\u001b[0m\n\u001b[1;37m                    ^\u001b[0m\n\u001b[1;31mSyntaxError\u001b[0m\u001b[1;31m:\u001b[0m positional argument follows keyword argument\n"
     ]
    }
   ],
   "source": [
    "complex(real=2,5) # w"
   ]
  },
  {
   "cell_type": "code",
   "execution_count": 46,
   "id": "aefcd8d0-4bf6-4714-b51c-ac9873747564",
   "metadata": {},
   "outputs": [
    {
     "data": {
      "text/plain": [
       "(2+5j)"
      ]
     },
     "execution_count": 46,
     "metadata": {},
     "output_type": "execute_result"
    }
   ],
   "source": [
    "complex(2,imag=5) "
   ]
  },
  {
   "cell_type": "code",
   "execution_count": 53,
   "id": "8b3b051e-ceca-45a7-bb28-fc8a8046676f",
   "metadata": {},
   "outputs": [],
   "source": [
    "import random"
   ]
  },
  {
   "cell_type": "code",
   "execution_count": 54,
   "id": "0a2c3488-6bcd-4f9e-97f8-e2238be630ca",
   "metadata": {},
   "outputs": [
    {
     "ename": "TypeError",
     "evalue": "Random.randint() missing 2 required positional arguments: 'a' and 'b'",
     "output_type": "error",
     "traceback": [
      "\u001b[1;31m---------------------------------------------------------------------------\u001b[0m",
      "\u001b[1;31mTypeError\u001b[0m                                 Traceback (most recent call last)",
      "Cell \u001b[1;32mIn[54], line 1\u001b[0m\n\u001b[1;32m----> 1\u001b[0m random\u001b[38;5;241m.\u001b[39mrandint()\n",
      "\u001b[1;31mTypeError\u001b[0m: Random.randint() missing 2 required positional arguments: 'a' and 'b'"
     ]
    }
   ],
   "source": [
    "random.randint()"
   ]
  },
  {
   "cell_type": "code",
   "execution_count": 55,
   "id": "4886c827-cacd-48d3-aee7-e50c99ac918b",
   "metadata": {},
   "outputs": [
    {
     "data": {
      "text/plain": [
       "2"
      ]
     },
     "execution_count": 55,
     "metadata": {},
     "output_type": "execute_result"
    }
   ],
   "source": [
    "random.randint(2,4)"
   ]
  },
  {
   "cell_type": "code",
   "execution_count": 56,
   "id": "a875e9c6-d90d-4f1b-bfe9-e09ceb2a187d",
   "metadata": {},
   "outputs": [
    {
     "data": {
      "text/plain": [
       "17"
      ]
     },
     "execution_count": 56,
     "metadata": {},
     "output_type": "execute_result"
    }
   ],
   "source": [
    "random.randint(a=10,b=20)"
   ]
  },
  {
   "cell_type": "code",
   "execution_count": 59,
   "id": "e37b7c00-0bc3-4981-9be0-48daa8c494ca",
   "metadata": {},
   "outputs": [
    {
     "ename": "TypeError",
     "evalue": "Random.randint() got an unexpected keyword argument 'd'",
     "output_type": "error",
     "traceback": [
      "\u001b[1;31m---------------------------------------------------------------------------\u001b[0m",
      "\u001b[1;31mTypeError\u001b[0m                                 Traceback (most recent call last)",
      "Cell \u001b[1;32mIn[59], line 1\u001b[0m\n\u001b[1;32m----> 1\u001b[0m random\u001b[38;5;241m.\u001b[39mrandint(d\u001b[38;5;241m=\u001b[39m\u001b[38;5;241m40\u001b[39m,e\u001b[38;5;241m=\u001b[39m\u001b[38;5;241m50\u001b[39m)\n",
      "\u001b[1;31mTypeError\u001b[0m: Random.randint() got an unexpected keyword argument 'd'"
     ]
    }
   ],
   "source": [
    "random.randint(c=20,d=50)"
   ]
  },
  {
   "cell_type": "code",
   "execution_count": 60,
   "id": "0cbdd3b3-84e0-4574-ac93-c727338b2f19",
   "metadata": {},
   "outputs": [
    {
     "ename": "TypeError",
     "evalue": "Random.randint() got an unexpected keyword argument 'd'",
     "output_type": "error",
     "traceback": [
      "\u001b[1;31m---------------------------------------------------------------------------\u001b[0m",
      "\u001b[1;31mTypeError\u001b[0m                                 Traceback (most recent call last)",
      "Cell \u001b[1;32mIn[60], line 1\u001b[0m\n\u001b[1;32m----> 1\u001b[0m random\u001b[38;5;241m.\u001b[39mrandint(\u001b[38;5;241m20\u001b[39m,d\u001b[38;5;241m=\u001b[39m\u001b[38;5;241m50\u001b[39m)\n",
      "\u001b[1;31mTypeError\u001b[0m: Random.randint() got an unexpected keyword argument 'd'"
     ]
    }
   ],
   "source": [
    "random.randint(20,d=50)"
   ]
  },
  {
   "cell_type": "markdown",
   "id": "b4ac6c0c-6125-4c08-97ca-7a65b65c5435",
   "metadata": {},
   "source": [
    "**in**\n"
   ]
  },
  {
   "cell_type": "code",
   "execution_count": 70,
   "id": "af62f38a-72f8-4eae-a857-f9d815e4c128",
   "metadata": {},
   "outputs": [
    {
     "name": "stdout",
     "output_type": "stream",
     "text": [
      "3\n"
     ]
    }
   ],
   "source": [
    "str10=\"hello how are you ,I'm meghana\"\n",
    "count=0\n",
    "for i in str10:\n",
    "    if i==a:\n",
    "        count=count+1\n",
    "print(count)"
   ]
  },
  {
   "cell_type": "code",
   "execution_count": 67,
   "id": "8c715255-c3be-4c77-981d-0e6673fbcce9",
   "metadata": {},
   "outputs": [
    {
     "name": "stdout",
     "output_type": "stream",
     "text": [
      "3\n"
     ]
    }
   ],
   "source": [
    "str10=\"hello how are you ,I'm meghana\"\n",
    "count=0\n",
    "for i in str10:\n",
    "    if i=='a':\n",
    "        count=count+1\n",
    "print(count)"
   ]
  },
  {
   "cell_type": "markdown",
   "id": "ef2df81a-817f-4863-95ae-45bafb25c067",
   "metadata": {},
   "source": [
    "**index**"
   ]
  },
  {
   "cell_type": "code",
   "execution_count": 2,
   "id": "28b4dc6e-b676-45b9-8cf3-07064f82dd32",
   "metadata": {},
   "outputs": [
    {
     "data": {
      "text/plain": [
       "'h'"
      ]
     },
     "execution_count": 2,
     "metadata": {},
     "output_type": "execute_result"
    }
   ],
   "source": [
    "str1= \"hello python\"\n",
    "#in python index starts with zero\n",
    "str1[0]"
   ]
  },
  {
   "cell_type": "code",
   "execution_count": 4,
   "id": "45eed871-a6ce-4e04-a355-7cff8b509e4a",
   "metadata": {},
   "outputs": [
    {
     "data": {
      "text/plain": [
       "' '"
      ]
     },
     "execution_count": 4,
     "metadata": {},
     "output_type": "execute_result"
    }
   ],
   "source": [
    "str1[5]"
   ]
  },
  {
   "cell_type": "code",
   "execution_count": 7,
   "id": "70fdf7b0-80ee-4951-8d24-d1f332014312",
   "metadata": {},
   "outputs": [
    {
     "name": "stdout",
     "output_type": "stream",
     "text": [
      "0 h\n",
      "1 e\n",
      "2 l\n",
      "3 l\n",
      "4 o\n",
      "5  \n",
      "6 p\n",
      "7 y\n",
      "8 t\n",
      "9 h\n",
      "10 o\n",
      "11 n\n"
     ]
    }
   ],
   "source": [
    "str1=\"hello python\"\n",
    "for i in range(12):\n",
    "    print(i,str1[i])"
   ]
  },
  {
   "cell_type": "code",
   "execution_count": 8,
   "id": "8804dfab-1528-409e-8bf8-fa66248f04e1",
   "metadata": {},
   "outputs": [
    {
     "data": {
      "text/plain": [
       "12"
      ]
     },
     "execution_count": 8,
     "metadata": {},
     "output_type": "execute_result"
    }
   ],
   "source": [
    "len(str1)"
   ]
  },
  {
   "cell_type": "code",
   "execution_count": 10,
   "id": "930ff5af-ad16-457e-a73f-7fd7223a3db3",
   "metadata": {},
   "outputs": [
    {
     "name": "stdout",
     "output_type": "stream",
     "text": [
      "0 m\n",
      "1 e\n",
      "2 g\n",
      "3 h\n",
      "4 a\n",
      "5 n\n",
      "6 a\n"
     ]
    }
   ],
   "source": [
    "str1=\"meghana\"\n",
    "n=len(str1)\n",
    "for i in range(n):\n",
    "    print(i,str1[i])"
   ]
  },
  {
   "cell_type": "code",
   "execution_count": 12,
   "id": "8ef71558-e9a9-4acc-b91e-8e6fcf72e141",
   "metadata": {},
   "outputs": [
    {
     "data": {
      "text/plain": [
       "'m'"
      ]
     },
     "execution_count": 12,
     "metadata": {},
     "output_type": "execute_result"
    }
   ],
   "source": [
    "str1[-7]"
   ]
  },
  {
   "cell_type": "code",
   "execution_count": 19,
   "id": "ffb33818-7ca5-4680-89ed-ba0f1f4828af",
   "metadata": {},
   "outputs": [
    {
     "name": "stdout",
     "output_type": "stream",
     "text": [
      "-7 m\n",
      "-6 e\n",
      "-5 g\n",
      "-4 h\n",
      "-3 a\n",
      "-2 n\n",
      "-1 a\n"
     ]
    }
   ],
   "source": [
    "str1=\"meghana\"\n",
    "for i in range(-7,0):\n",
    "    print(i,str1[i])"
   ]
  },
  {
   "cell_type": "code",
   "execution_count": 20,
   "id": "9531b216-02db-4cad-9284-490f58b387f5",
   "metadata": {},
   "outputs": [
    {
     "name": "stdout",
     "output_type": "stream",
     "text": [
      "-7 m\n",
      "-6 e\n",
      "-5 g\n",
      "-4 h\n",
      "-3 a\n",
      "-2 n\n",
      "-1 a\n"
     ]
    }
   ],
   "source": [
    "str1=\"meghana\"\n",
    "n=len(str1)\n",
    "for i in range(-n,0):\n",
    "    print(i,str1[i])"
   ]
  },
  {
   "cell_type": "markdown",
   "id": "ef04ca9d-eac3-43ff-b40e-24d8333f78ca",
   "metadata": {},
   "source": [
    "**positive index**"
   ]
  },
  {
   "cell_type": "code",
   "execution_count": 21,
   "id": "86e263c4-c0a6-476b-82d1-243ac6f9ed97",
   "metadata": {},
   "outputs": [
    {
     "name": "stdout",
     "output_type": "stream",
     "text": [
      "0 m\n",
      "1 e\n",
      "2 g\n",
      "3 h\n",
      "4 a\n",
      "5 n\n",
      "6 a\n"
     ]
    }
   ],
   "source": [
    "str1=\"meghana\"\n",
    "n=len(str1)\n",
    "for i in range(n):\n",
    "    print(i,str1[i])"
   ]
  },
  {
   "cell_type": "markdown",
   "id": "f8f1ad5d-a7d5-4b3b-aafc-351c219efd25",
   "metadata": {},
   "source": [
    "**negative index**"
   ]
  },
  {
   "cell_type": "code",
   "execution_count": 22,
   "id": "d044dd62-422b-4903-ad95-699183b8b536",
   "metadata": {},
   "outputs": [
    {
     "name": "stdout",
     "output_type": "stream",
     "text": [
      "-7 m\n",
      "-6 e\n",
      "-5 g\n",
      "-4 h\n",
      "-3 a\n",
      "-2 n\n",
      "-1 a\n"
     ]
    }
   ],
   "source": [
    "str1=\"meghana\"\n",
    "n=len(str1)\n",
    "for i in range(-n,0):\n",
    "    print(i,str1[i])"
   ]
  },
  {
   "cell_type": "code",
   "execution_count": 25,
   "id": "415f436d-f1df-4309-aa75-98631cd55509",
   "metadata": {},
   "outputs": [
    {
     "name": "stdout",
     "output_type": "stream",
     "text": [
      "the positive index of m is 0\n",
      "the positive index of e is 1\n",
      "the positive index of g is 2\n",
      "the positive index of h is 3\n",
      "the positive index of a is 4\n",
      "the positive index of n is 5\n",
      "the positive index of a is 6\n"
     ]
    }
   ],
   "source": [
    "# wap to print the each letter index positive \n",
    "str1=\"meghana\"\n",
    "n=len(str1)\n",
    "for i in range(n):\n",
    "    print(f\"the positive index of {str1[i]} is {i}\")"
   ]
  },
  {
   "cell_type": "code",
   "execution_count": 26,
   "id": "f258ff44-59f7-41bc-9f03-fba1b069f452",
   "metadata": {},
   "outputs": [
    {
     "name": "stdout",
     "output_type": "stream",
     "text": [
      "the negative index of m is -7\n",
      "the negative index of e is -6\n",
      "the negative index of g is -5\n",
      "the negative index of h is -4\n",
      "the negative index of a is -3\n",
      "the negative index of n is -2\n",
      "the negative index of a is -1\n"
     ]
    }
   ],
   "source": [
    "# wap to print the each letter index negative way\n",
    "str1=\"meghana\"\n",
    "n=len(str1)\n",
    "for i in range(-n,0):\n",
    "    print(f\"the negative index of {str1[i]} is {i}\")"
   ]
  },
  {
   "cell_type": "code",
   "execution_count": 66,
   "id": "6117563a-bf7d-4967-93c0-96ab280c6831",
   "metadata": {},
   "outputs": [
    {
     "name": "stdout",
     "output_type": "stream",
     "text": [
      "the positive index of m is 0 and the negative index of m is -7\n",
      "the positive index of e is 1 and the negative index of e is -6\n",
      "the positive index of g is 2 and the negative index of g is -5\n",
      "the positive index of h is 3 and the negative index of h is -4\n",
      "the positive index of a is 4 and the negative index of a is -3\n",
      "the positive index of n is 5 and the negative index of n is -2\n",
      "the positive index of a is 6 and the negative index of a is -1\n"
     ]
    }
   ],
   "source": [
    "str1=\"meghana\"\n",
    "n=len(str1)\n",
    "for i in range(n):\n",
    "    print(f\"the positive index of {str1[i]} is {i} and the negative index of {str1[i]} is {i-n}\")"
   ]
  },
  {
   "cell_type": "code",
   "execution_count": 79,
   "id": "561225f0-2966-4c67-853d-32a71ebc3e64",
   "metadata": {},
   "outputs": [
    {
     "name": "stdout",
     "output_type": "stream",
     "text": [
      "the 1 occurences of 'a' index is 4\n",
      "the 2 occurences of 'a' index is 6\n"
     ]
    }
   ],
   "source": [
    "#wap ask the user to get the indexs of occurences of 'a' in a given statemets\n",
    "str1=\"meghana\"\n",
    "n=len(str1)\n",
    "count=0\n",
    "for i in range(n):\n",
    "    if str1[i]=='a':\n",
    "        count=count+1\n",
    "        print(f\"the {count} occurences of '{str1[i]}' index is {i}\")"
   ]
  },
  {
   "cell_type": "code",
   "execution_count": 80,
   "id": "8f06024f-fcf9-4394-95b5-35f05f65fec0",
   "metadata": {},
   "outputs": [
    {
     "name": "stdout",
     "output_type": "stream",
     "text": [
      "the 1 occurences of 'a' index is -3\n",
      "the 2 occurences of 'a' index is -1\n"
     ]
    }
   ],
   "source": [
    "str1=\"meghana\"\n",
    "n=len(str1)\n",
    "count=0\n",
    "for i in range(n):\n",
    "    if str1[i]=='a':\n",
    "        count=count+1\n",
    "        print(f\"the {count} occurences of '{str1[i]}' index is {i-n}\")"
   ]
  },
  {
   "cell_type": "code",
   "execution_count": 91,
   "id": "b1de08c7-c0f9-4266-afda-7903cf1b7f71",
   "metadata": {},
   "outputs": [
    {
     "name": "stdout",
     "output_type": "stream",
     "text": [
      "the occurences of all index is 6 and the sum of all occurence is 10\n"
     ]
    }
   ],
   "source": [
    "#wap get the sum of ALL the indexes\n",
    "# and count of all occurences\n",
    "str1=\"meghana\"\n",
    "n=len(str1)\n",
    "count=0\n",
    "summ=0\n",
    "for i in range(n):\n",
    "    if str1[i]=='a':\n",
    "        count=count+1\n",
    "        summ=summ+i\n",
    "print(f\"the occurences of all index is {i} and the sum of all occurence is {summ}\")"
   ]
  },
  {
   "cell_type": "code",
   "execution_count": 104,
   "id": "bfc44289-68fc-445c-abe1-5c729bcb052b",
   "metadata": {},
   "outputs": [
    {
     "name": "stdout",
     "output_type": "stream",
     "text": [
      "a i o a e o u "
     ]
    }
   ],
   "source": [
    "# wap find the vowels in the given string \n",
    "str1='hai how are you'\n",
    "for i in range(len(str1)):\n",
    "    if str1[i] in 'aeiou':\n",
    "        print(str1[i],end=\" \")"
   ]
  },
  {
   "cell_type": "code",
   "execution_count": 105,
   "id": "e210ee2b-339f-48af-81d2-762c983fdbae",
   "metadata": {},
   "outputs": [
    {
     "name": "stdout",
     "output_type": "stream",
     "text": [
      "a 1\n",
      "i 2\n",
      "o 5\n",
      "a 8\n",
      "e 10\n",
      "o 13\n",
      "u 14\n"
     ]
    }
   ],
   "source": [
    "# find the indexs of vowels\n",
    "str1='hai how are you'\n",
    "for i in range(len(str1)):\n",
    "    if str1[i] in 'aeiou':\n",
    "        print(str1[i],i)"
   ]
  },
  {
   "cell_type": "code",
   "execution_count": 107,
   "id": "f4552fac-58bc-445c-b0b9-12002ae558be",
   "metadata": {},
   "outputs": [
    {
     "name": "stdout",
     "output_type": "stream",
     "text": [
      "7\n"
     ]
    }
   ],
   "source": [
    "# find the count of vowels\n",
    "str1='hai how are you'\n",
    "count=0\n",
    "for i in range(len(str1)):\n",
    "    if str1[i] in 'aeiou':\n",
    "        count=count+1\n",
    "print(count)"
   ]
  },
  {
   "cell_type": "code",
   "execution_count": 5,
   "id": "b81f958c-2232-4112-8afa-a43fb5a3ecd2",
   "metadata": {},
   "outputs": [
    {
     "name": "stdout",
     "output_type": "stream",
     "text": [
      "52\n"
     ]
    }
   ],
   "source": [
    "#find the sum of before indexs of vowels\n",
    "str1='hai how are you'\n",
    "summ=0\n",
    "for i in range(len(str1)):\n",
    "    if str1[i] not in 'aeiou':\n",
    "        summ=summ+i\n",
    "print(summ)"
   ]
  },
  {
   "cell_type": "code",
   "execution_count": 4,
   "id": "c8317940-e0fe-4f88-8dd9-a4a8101f927e",
   "metadata": {},
   "outputs": [
    {
     "name": "stdout",
     "output_type": "stream",
     "text": [
      "52\n"
     ]
    }
   ],
   "source": [
    "str1='hai how are you'\n",
    "summ=0\n",
    "for i in range(len(str1)):\n",
    "    if str1[i] not in 'aeiou':\n",
    "        summ=summ+i\n",
    "print(summ)"
   ]
  },
  {
   "cell_type": "markdown",
   "id": "2fc1da01-2b11-4037-bcdd-1a7ffa2b90e5",
   "metadata": {},
   "source": [
    "**mutable -immutable**\n",
    "\n",
    "- values can not change using index operations called as **immutable**\n",
    "\n",
    "- **strings are immutable**"
   ]
  },
  {
   "cell_type": "code",
   "execution_count": 7,
   "id": "7e886cb1-02cf-44ca-81a1-d3136da5a945",
   "metadata": {},
   "outputs": [
    {
     "data": {
      "text/plain": [
       "'p'"
      ]
     },
     "execution_count": 7,
     "metadata": {},
     "output_type": "execute_result"
    }
   ],
   "source": [
    " # 'p' with 'P'\n",
    "str1='python'\n",
    "str1[0]"
   ]
  },
  {
   "cell_type": "code",
   "execution_count": 10,
   "id": "8b2cea41-6f5e-42ed-8f69-42f167bdedf7",
   "metadata": {},
   "outputs": [
    {
     "data": {
      "text/plain": [
       "10"
      ]
     },
     "execution_count": 10,
     "metadata": {},
     "output_type": "execute_result"
    }
   ],
   "source": [
    "l=[10,20,30]\n",
    "l[0]"
   ]
  },
  {
   "cell_type": "code",
   "execution_count": 11,
   "id": "8ba78af2-b8f8-40db-879f-2f4d21a47416",
   "metadata": {},
   "outputs": [],
   "source": [
    "l[0]=100\n"
   ]
  },
  {
   "cell_type": "code",
   "execution_count": 12,
   "id": "0c2a3200-2f4b-4749-96b8-db3553170406",
   "metadata": {},
   "outputs": [
    {
     "data": {
      "text/plain": [
       "[100, 20, 30]"
      ]
     },
     "execution_count": 12,
     "metadata": {},
     "output_type": "execute_result"
    }
   ],
   "source": [
    "l"
   ]
  },
  {
   "cell_type": "markdown",
   "id": "61b97c09-c580-416f-b228-b8e12d7d2db0",
   "metadata": {},
   "source": [
    "**slice**\n",
    "\n",
    "- cut into pieces\n",
    "\n",
    "- which means we can extract some part of string\n",
    "\n",
    "- for that we need to understanding the start,stop,step\n",
    "\n",
    "- s[start:stop:step]"
   ]
  },
  {
   "cell_type": "code",
   "execution_count": 13,
   "id": "4b71dd4f-90de-4351-a838-08ebf94ae619",
   "metadata": {},
   "outputs": [
    {
     "data": {
      "text/plain": [
       "'llo pyth'"
      ]
     },
     "execution_count": 13,
     "metadata": {},
     "output_type": "execute_result"
    }
   ],
   "source": [
    "str=\"hello python\"\n",
    "str[2:10]"
   ]
  },
  {
   "cell_type": "code",
   "execution_count": 14,
   "id": "f99f6e16-a078-4a0e-92d5-ab6eff0be783",
   "metadata": {},
   "outputs": [
    {
     "data": {
      "text/plain": [
       "'lopt'"
      ]
     },
     "execution_count": 14,
     "metadata": {},
     "output_type": "execute_result"
    }
   ],
   "source": [
    "str=\"hello python\"\n",
    "str[2:10:2]"
   ]
  },
  {
   "cell_type": "code",
   "execution_count": 15,
   "id": "573d8da6-06a5-4474-a8e8-61464b443bde",
   "metadata": {},
   "outputs": [
    {
     "data": {
      "text/plain": [
       "''"
      ]
     },
     "execution_count": 15,
     "metadata": {},
     "output_type": "execute_result"
    }
   ],
   "source": [
    "str=\"hello python\"\n",
    "str[2:10:-2]\n",
    "# start =2\n",
    "# -ve direction \n",
    "# last=stop+1 = 10+1 = 11\n",
    "# 2----------11(+ve)"
   ]
  },
  {
   "cell_type": "code",
   "execution_count": 17,
   "id": "0baf9bba-4a54-4a63-9d3a-3c18c86a14a7",
   "metadata": {},
   "outputs": [
    {
     "data": {
      "text/plain": [
       "''"
      ]
     },
     "execution_count": 17,
     "metadata": {},
     "output_type": "execute_result"
    }
   ],
   "source": [
    "str=\"hello python\"\n",
    "str[7:-10:2]"
   ]
  },
  {
   "cell_type": "code",
   "execution_count": 18,
   "id": "0abae460-f819-4918-98a0-8ef1b1c40820",
   "metadata": {},
   "outputs": [
    {
     "data": {
      "text/plain": [
       "'y le'"
      ]
     },
     "execution_count": 18,
     "metadata": {},
     "output_type": "execute_result"
    }
   ],
   "source": [
    "str=\"hello python\"\n",
    "str[7:-12:-2]"
   ]
  },
  {
   "cell_type": "code",
   "execution_count": 20,
   "id": "fea4f1e2-39ba-4af1-84d8-e071f0383e06",
   "metadata": {},
   "outputs": [
    {
     "data": {
      "text/plain": [
       "'lopto'"
      ]
     },
     "execution_count": 20,
     "metadata": {},
     "output_type": "execute_result"
    }
   ],
   "source": [
    "str=\"hello python\"\n",
    "str[2:-1:2]"
   ]
  },
  {
   "cell_type": "code",
   "execution_count": null,
   "id": "f884605e-6c30-48ab-abd3-4820b84ccc1f",
   "metadata": {},
   "outputs": [],
   "source": [
    "-12  -11   -10   -9    -8    -7     -6   -5    -4      -3       -2       -1   \n",
    " h    e      l    l     o            p    y     t       h        o        n\n",
    " 0    1      2    3     4     5      6    7     8       9        10       11"
   ]
  },
  {
   "cell_type": "code",
   "execution_count": 21,
   "id": "6f7df79f-4e32-4ad6-970a-2e8ec466b152",
   "metadata": {},
   "outputs": [
    {
     "data": {
      "text/plain": [
       "'lopto'"
      ]
     },
     "execution_count": 21,
     "metadata": {},
     "output_type": "execute_result"
    }
   ],
   "source": [
    "str[2:12:2] #p"
   ]
  },
  {
   "cell_type": "code",
   "execution_count": 23,
   "id": "f870a784-d65f-4d3d-b2c6-07999ea5334b",
   "metadata": {},
   "outputs": [
    {
     "data": {
      "text/plain": [
       "''"
      ]
     },
     "execution_count": 23,
     "metadata": {},
     "output_type": "execute_result"
    }
   ],
   "source": [
    "str[2:12:-2]#np"
   ]
  },
  {
   "cell_type": "code",
   "execution_count": 24,
   "id": "6a95669d-c402-42d8-8ee6-1ae997c74003",
   "metadata": {},
   "outputs": [
    {
     "data": {
      "text/plain": [
       "''"
      ]
     },
     "execution_count": 24,
     "metadata": {},
     "output_type": "execute_result"
    }
   ],
   "source": [
    "str[2:-12:2]"
   ]
  },
  {
   "cell_type": "code",
   "execution_count": 25,
   "id": "e526653b-6f9f-492d-96a7-43c2d99673ed",
   "metadata": {},
   "outputs": [
    {
     "data": {
      "text/plain": [
       "'l'"
      ]
     },
     "execution_count": 25,
     "metadata": {},
     "output_type": "execute_result"
    }
   ],
   "source": [
    "str[2:-12:-2]"
   ]
  },
  {
   "cell_type": "code",
   "execution_count": 26,
   "id": "05e4a735-370d-4bc0-804f-41fc9b0b8f46",
   "metadata": {},
   "outputs": [
    {
     "data": {
      "text/plain": [
       "'otpol'"
      ]
     },
     "execution_count": 26,
     "metadata": {},
     "output_type": "execute_result"
    }
   ],
   "source": [
    "str[-2:-12:-2]"
   ]
  },
  {
   "cell_type": "code",
   "execution_count": 27,
   "id": "93f66806-9cd9-41ed-858d-947558b7e25f",
   "metadata": {},
   "outputs": [
    {
     "data": {
      "text/plain": [
       "'o'"
      ]
     },
     "execution_count": 27,
     "metadata": {},
     "output_type": "execute_result"
    }
   ],
   "source": [
    "str[-2:12:2]"
   ]
  },
  {
   "cell_type": "code",
   "execution_count": 28,
   "id": "bb3182be-8cd1-41f4-abc3-aec77f39131f",
   "metadata": {},
   "outputs": [
    {
     "data": {
      "text/plain": [
       "''"
      ]
     },
     "execution_count": 28,
     "metadata": {},
     "output_type": "execute_result"
    }
   ],
   "source": [
    "str[-2:-12:2]"
   ]
  },
  {
   "cell_type": "code",
   "execution_count": 29,
   "id": "bb15a9a1-43ae-4e61-86bc-b845c9b79354",
   "metadata": {},
   "outputs": [
    {
     "data": {
      "text/plain": [
       "'hello python'"
      ]
     },
     "execution_count": 29,
     "metadata": {},
     "output_type": "execute_result"
    }
   ],
   "source": [
    "str[:]"
   ]
  },
  {
   "cell_type": "code",
   "execution_count": 30,
   "id": "e14acc8c-b2ce-4d9f-a452-8880e43da407",
   "metadata": {},
   "outputs": [
    {
     "data": {
      "text/plain": [
       "'llo python'"
      ]
     },
     "execution_count": 30,
     "metadata": {},
     "output_type": "execute_result"
    }
   ],
   "source": [
    "str[2:]"
   ]
  },
  {
   "cell_type": "code",
   "execution_count": 31,
   "id": "f7d903da-03a2-4fcd-8939-1c7c3bccdf32",
   "metadata": {},
   "outputs": [
    {
     "data": {
      "text/plain": [
       "'hello python'"
      ]
     },
     "execution_count": 31,
     "metadata": {},
     "output_type": "execute_result"
    }
   ],
   "source": [
    "str[:12]"
   ]
  },
  {
   "cell_type": "code",
   "execution_count": 32,
   "id": "ee8d19bc-3c1e-4122-916c-c534ba0823b7",
   "metadata": {},
   "outputs": [
    {
     "data": {
      "text/plain": [
       "'hello python'"
      ]
     },
     "execution_count": 32,
     "metadata": {},
     "output_type": "execute_result"
    }
   ],
   "source": [
    "str[::]"
   ]
  },
  {
   "cell_type": "code",
   "execution_count": 33,
   "id": "b6798358-3ed2-4f45-8290-bdb5eab01c89",
   "metadata": {},
   "outputs": [
    {
     "data": {
      "text/plain": [
       "'nohtyp olleh'"
      ]
     },
     "execution_count": 33,
     "metadata": {},
     "output_type": "execute_result"
    }
   ],
   "source": [
    "str[::-1]"
   ]
  },
  {
   "cell_type": "code",
   "execution_count": 34,
   "id": "1eae7b77-bbae-40e3-8be2-e87a1713d36a",
   "metadata": {},
   "outputs": [
    {
     "data": {
      "text/plain": [
       "'otpolh'"
      ]
     },
     "execution_count": 34,
     "metadata": {},
     "output_type": "execute_result"
    }
   ],
   "source": [
    "str[-2::-2]"
   ]
  },
  {
   "cell_type": "markdown",
   "id": "a4c3a00d-cc70-41d8-a997-ad1acb685278",
   "metadata": {},
   "source": [
    "**concatenation**"
   ]
  },
  {
   "cell_type": "code",
   "execution_count": 35,
   "id": "f9fcd2c4-2844-473a-8127-f67fff1903b5",
   "metadata": {},
   "outputs": [
    {
     "data": {
      "text/plain": [
       "'hello python'"
      ]
     },
     "execution_count": 35,
     "metadata": {},
     "output_type": "execute_result"
    }
   ],
   "source": [
    "str1=\"hello \"\n",
    "str2=\"python\"\n",
    "str1+str2"
   ]
  },
  {
   "cell_type": "code",
   "execution_count": 37,
   "id": "5950581b-8270-4bd9-8148-0c9f777cd639",
   "metadata": {},
   "outputs": [
    {
     "ename": "TypeError",
     "evalue": "can't multiply sequence by non-int of type 'str'",
     "output_type": "error",
     "traceback": [
      "\u001b[1;31m---------------------------------------------------------------------------\u001b[0m",
      "\u001b[1;31mTypeError\u001b[0m                                 Traceback (most recent call last)",
      "Cell \u001b[1;32mIn[37], line 1\u001b[0m\n\u001b[1;32m----> 1\u001b[0m str1\u001b[38;5;241m*\u001b[39mstr2\n",
      "\u001b[1;31mTypeError\u001b[0m: can't multiply sequence by non-int of type 'str'"
     ]
    }
   ],
   "source": [
    "str1*str2"
   ]
  },
  {
   "cell_type": "code",
   "execution_count": 39,
   "id": "fe4f0e59-19ab-4e8e-9d0d-f4713244bde9",
   "metadata": {},
   "outputs": [
    {
     "data": {
      "text/plain": [
       "'hello hello hello '"
      ]
     },
     "execution_count": 39,
     "metadata": {},
     "output_type": "execute_result"
    }
   ],
   "source": [
    "str1*3"
   ]
  },
  {
   "cell_type": "code",
   "execution_count": 40,
   "id": "83a465fd-a508-46c3-8dcf-2ac01397379d",
   "metadata": {},
   "outputs": [
    {
     "ename": "TypeError",
     "evalue": "unsupported operand type(s) for /: 'str' and 'str'",
     "output_type": "error",
     "traceback": [
      "\u001b[1;31m---------------------------------------------------------------------------\u001b[0m",
      "\u001b[1;31mTypeError\u001b[0m                                 Traceback (most recent call last)",
      "Cell \u001b[1;32mIn[40], line 1\u001b[0m\n\u001b[1;32m----> 1\u001b[0m str1\u001b[38;5;241m/\u001b[39mstr2\n",
      "\u001b[1;31mTypeError\u001b[0m: unsupported operand type(s) for /: 'str' and 'str'"
     ]
    }
   ],
   "source": [
    "str1/str2"
   ]
  },
  {
   "cell_type": "code",
   "execution_count": 41,
   "id": "f0d9625c-50ce-4c70-bc4e-249842563f0a",
   "metadata": {},
   "outputs": [
    {
     "ename": "TypeError",
     "evalue": "unsupported operand type(s) for -: 'str' and 'str'",
     "output_type": "error",
     "traceback": [
      "\u001b[1;31m---------------------------------------------------------------------------\u001b[0m",
      "\u001b[1;31mTypeError\u001b[0m                                 Traceback (most recent call last)",
      "Cell \u001b[1;32mIn[41], line 1\u001b[0m\n\u001b[1;32m----> 1\u001b[0m str1\u001b[38;5;241m-\u001b[39mstr2\n",
      "\u001b[1;31mTypeError\u001b[0m: unsupported operand type(s) for -: 'str' and 'str'"
     ]
    }
   ],
   "source": [
    "str1-str2"
   ]
  },
  {
   "cell_type": "markdown",
   "id": "80ae6f4b-fe6d-44fa-bf49-38d1be039ebf",
   "metadata": {},
   "source": [
    "**strings part-2**\n",
    "\n",
    "**strings methods**\n",
    "\n",
    "- you need to treat strings is a packages\n",
    "\n",
    "- so apply **dir** on any string we will get methods"
   ]
  },
  {
   "cell_type": "code",
   "execution_count": 43,
   "id": "31dde2c3-9b61-429f-ad09-901ae2ba23db",
   "metadata": {},
   "outputs": [
    {
     "data": {
      "text/plain": [
       "['__add__',\n",
       " '__class__',\n",
       " '__contains__',\n",
       " '__delattr__',\n",
       " '__dir__',\n",
       " '__doc__',\n",
       " '__eq__',\n",
       " '__format__',\n",
       " '__ge__',\n",
       " '__getattribute__',\n",
       " '__getitem__',\n",
       " '__getnewargs__',\n",
       " '__getstate__',\n",
       " '__gt__',\n",
       " '__hash__',\n",
       " '__init__',\n",
       " '__init_subclass__',\n",
       " '__iter__',\n",
       " '__le__',\n",
       " '__len__',\n",
       " '__lt__',\n",
       " '__mod__',\n",
       " '__mul__',\n",
       " '__ne__',\n",
       " '__new__',\n",
       " '__reduce__',\n",
       " '__reduce_ex__',\n",
       " '__repr__',\n",
       " '__rmod__',\n",
       " '__rmul__',\n",
       " '__setattr__',\n",
       " '__sizeof__',\n",
       " '__str__',\n",
       " '__subclasshook__',\n",
       " 'capitalize',\n",
       " 'casefold',\n",
       " 'center',\n",
       " 'count',\n",
       " 'encode',\n",
       " 'endswith',\n",
       " 'expandtabs',\n",
       " 'find',\n",
       " 'format',\n",
       " 'format_map',\n",
       " 'index',\n",
       " 'isalnum',\n",
       " 'isalpha',\n",
       " 'isascii',\n",
       " 'isdecimal',\n",
       " 'isdigit',\n",
       " 'isidentifier',\n",
       " 'islower',\n",
       " 'isnumeric',\n",
       " 'isprintable',\n",
       " 'isspace',\n",
       " 'istitle',\n",
       " 'isupper',\n",
       " 'join',\n",
       " 'ljust',\n",
       " 'lower',\n",
       " 'lstrip',\n",
       " 'maketrans',\n",
       " 'partition',\n",
       " 'removeprefix',\n",
       " 'removesuffix',\n",
       " 'replace',\n",
       " 'rfind',\n",
       " 'rindex',\n",
       " 'rjust',\n",
       " 'rpartition',\n",
       " 'rsplit',\n",
       " 'rstrip',\n",
       " 'split',\n",
       " 'splitlines',\n",
       " 'startswith',\n",
       " 'strip',\n",
       " 'swapcase',\n",
       " 'title',\n",
       " 'translate',\n",
       " 'upper',\n",
       " 'zfill']"
      ]
     },
     "execution_count": 43,
     "metadata": {},
     "output_type": "execute_result"
    }
   ],
   "source": [
    "dir('')"
   ]
  },
  {
   "cell_type": "markdown",
   "id": "43a8b02b-0cca-41b7-9833-b3233091d6ee",
   "metadata": {},
   "source": [
    "$capitialize$"
   ]
  },
  {
   "cell_type": "code",
   "execution_count": 45,
   "id": "3874d90c-30ee-406a-a0ba-aa986865eb64",
   "metadata": {},
   "outputs": [
    {
     "data": {
      "text/plain": [
       "'Python'"
      ]
     },
     "execution_count": 45,
     "metadata": {},
     "output_type": "execute_result"
    }
   ],
   "source": [
    "str='python'\n",
    "str.capitalize()"
   ]
  },
  {
   "cell_type": "code",
   "execution_count": 46,
   "id": "2cf7109a-ec2a-4f01-b910-1834ba4a3822",
   "metadata": {},
   "outputs": [
    {
     "data": {
      "text/plain": [
       "'PYTHON'"
      ]
     },
     "execution_count": 46,
     "metadata": {},
     "output_type": "execute_result"
    }
   ],
   "source": [
    "str='python'\n",
    "str.upper()\n",
    "    "
   ]
  },
  {
   "cell_type": "code",
   "execution_count": 47,
   "id": "d6ab01eb-e261-4bdb-a1c1-ffd77477fdb3",
   "metadata": {},
   "outputs": [
    {
     "data": {
      "text/plain": [
       "'python'"
      ]
     },
     "execution_count": 47,
     "metadata": {},
     "output_type": "execute_result"
    }
   ],
   "source": [
    "str='python'\n",
    "str.lower()"
   ]
  },
  {
   "cell_type": "markdown",
   "id": "ddcf5379-8a04-4576-a383-44e933c08ea7",
   "metadata": {},
   "source": [
    "$casefold$\n",
    "\n",
    "**return a version of the string suitable for caseless comparison means lower case**"
   ]
  },
  {
   "cell_type": "code",
   "execution_count": 52,
   "id": "81fa956f-a73b-411a-8cf1-059b05d410ad",
   "metadata": {},
   "outputs": [
    {
     "data": {
      "text/plain": [
       "'python'"
      ]
     },
     "execution_count": 52,
     "metadata": {},
     "output_type": "execute_result"
    }
   ],
   "source": [
    "ststr='python'\n",
    "str.casefold()"
   ]
  },
  {
   "cell_type": "code",
   "execution_count": null,
   "id": "eab1ce75-81d4-46bf-a401-1405b914a081",
   "metadata": {},
   "outputs": [],
   "source": [
    "$center$"
   ]
  },
  {
   "cell_type": "code",
   "execution_count": 57,
   "id": "b39e64a5-3432-4eb5-beae-d7c20ba6f15d",
   "metadata": {},
   "outputs": [
    {
     "data": {
      "text/plain": [
       "'python'"
      ]
     },
     "execution_count": 57,
     "metadata": {},
     "output_type": "execute_result"
    }
   ],
   "source": [
    "str='python'\n",
    "str.center(5)"
   ]
  },
  {
   "cell_type": "code",
   "execution_count": 53,
   "id": "66934a1f-adfd-4cb4-bc50-45cd339430f8",
   "metadata": {},
   "outputs": [
    {
     "data": {
      "text/plain": [
       "'       python       '"
      ]
     },
     "execution_count": 53,
     "metadata": {},
     "output_type": "execute_result"
    }
   ],
   "source": [
    "ststr='python'\n",
    "str.center(20, )"
   ]
  },
  {
   "cell_type": "code",
   "execution_count": 58,
   "id": "7ee3f1ee-043c-4c3c-b54c-5dbbc26d8cd9",
   "metadata": {},
   "outputs": [
    {
     "data": {
      "text/plain": [
       "'$$python$$'"
      ]
     },
     "execution_count": 58,
     "metadata": {},
     "output_type": "execute_result"
    }
   ],
   "source": [
    "str='python'\n",
    "str.center(10,'$')\n",
    "#total new string width=10\n",
    "#old str would be center\n",
    "# remaining 4 would be $, 2 from front and 2 from end "
   ]
  },
  {
   "cell_type": "code",
   "execution_count": 59,
   "id": "230accc8-a8a4-4394-ac61-c14292f0d097",
   "metadata": {},
   "outputs": [
    {
     "data": {
      "text/plain": [
       "'$$$python$$'"
      ]
     },
     "execution_count": 59,
     "metadata": {},
     "output_type": "execute_result"
    }
   ],
   "source": [
    "str='python'\n",
    "str.center(11,'$')"
   ]
  },
  {
   "cell_type": "code",
   "execution_count": 64,
   "id": "e08a6039-e1f1-4564-80d8-6d047a4b9573",
   "metadata": {},
   "outputs": [
    {
     "data": {
      "text/plain": [
       "'$$$$$ $$$$$'"
      ]
     },
     "execution_count": 64,
     "metadata": {},
     "output_type": "execute_result"
    }
   ],
   "source": [
    "str='python'\n",
    "' '.center(11,'$')"
   ]
  },
  {
   "cell_type": "code",
   "execution_count": 65,
   "id": "192f5abe-3710-4703-aa96-8d5d4ca179a6",
   "metadata": {},
   "outputs": [
    {
     "data": {
      "text/plain": [
       "'python'"
      ]
     },
     "execution_count": 65,
     "metadata": {},
     "output_type": "execute_result"
    }
   ],
   "source": [
    "str='python'\n",
    "'python'.center(2,'$')"
   ]
  },
  {
   "cell_type": "markdown",
   "id": "68f39fbc-d0c2-4587-be2f-ac0495a2ddec",
   "metadata": {},
   "source": [
    "**title**"
   ]
  },
  {
   "cell_type": "code",
   "execution_count": 9,
   "id": "d88cfe7e-777e-4ff8-ab68-335c97bbb6a5",
   "metadata": {},
   "outputs": [
    {
     "data": {
      "text/plain": [
       "'Python'"
      ]
     },
     "execution_count": 9,
     "metadata": {},
     "output_type": "execute_result"
    }
   ],
   "source": [
    "str='python'\n",
    "str.title()"
   ]
  },
  {
   "cell_type": "code",
   "execution_count": 10,
   "id": "f2902b90-722e-4794-8cf3-ab54a207ce58",
   "metadata": {},
   "outputs": [
    {
     "data": {
      "text/plain": [
       "'Hello How Are You'"
      ]
     },
     "execution_count": 10,
     "metadata": {},
     "output_type": "execute_result"
    }
   ],
   "source": [
    "str='hello how are you'\n",
    "str.title()"
   ]
  },
  {
   "cell_type": "markdown",
   "id": "53cc92fc-35d6-4881-8e88-3b75ba345e96",
   "metadata": {},
   "source": [
    "**Unique items**\n",
    "\n",
    "- always make a empty string\n",
    "\n",
    "- iterate the letters of orginal string through for loop\n",
    "\n",
    "- whenever the vowel condition matches keep that letter in empty string\n",
    "\n",
    "- now onwards do the two check\n",
    "\n",
    "    - is that vowel\n",
    " \n",
    "    - is that present in that new string "
   ]
  },
  {
   "cell_type": "code",
   "execution_count": 3,
   "id": "115baef6-091b-4f12-b17b-ea89a78bfabf",
   "metadata": {},
   "outputs": [
    {
     "name": "stdout",
     "output_type": "stream",
     "text": [
      "ae\n"
     ]
    },
    {
     "data": {
      "text/plain": [
       "2"
      ]
     },
     "execution_count": 3,
     "metadata": {},
     "output_type": "execute_result"
    }
   ],
   "source": [
    "str1=\"aabbccddee\"\n",
    "str2=\"\"\n",
    "for i in str1:\n",
    "    if i in \"aeiou\" and i not in str2:\n",
    "        str2=str2+i\n",
    "print(str2)\n",
    "len(str2)"
   ]
  },
  {
   "cell_type": "code",
   "execution_count": 5,
   "id": "a927fd45-27f1-4ff8-b46d-777a82a4cbba",
   "metadata": {},
   "outputs": [
    {
     "name": "stdout",
     "output_type": "stream",
     "text": [
      "ea\n"
     ]
    }
   ],
   "source": [
    "str1 = \"meghana\"\n",
    "str2 = \"\"\n",
    "for i in range(len(str1)):\n",
    "    if str1[i] in \"aeiou\" and str1[i] not in str2:\n",
    "        str2=str2+str1[i]\n",
    "\n",
    "print(str2)"
   ]
  },
  {
   "cell_type": "markdown",
   "id": "3260fabb-9560-48ef-9930-c12af730522a",
   "metadata": {},
   "source": [
    "**count**\n",
    "- **note**- ther is no error in count"
   ]
  },
  {
   "cell_type": "code",
   "execution_count": 12,
   "id": "5a8a2d71-2c14-4013-a2ed-77fbff6ec335",
   "metadata": {},
   "outputs": [
    {
     "data": {
      "text/plain": [
       "2"
      ]
     },
     "execution_count": 12,
     "metadata": {},
     "output_type": "execute_result"
    }
   ],
   "source": [
    "str=\"hai how are you\"\n",
    "str.count('a')"
   ]
  },
  {
   "cell_type": "code",
   "execution_count": 14,
   "id": "03ff2993-8f78-428d-84c4-af5205f42843",
   "metadata": {},
   "outputs": [
    {
     "data": {
      "text/plain": [
       "1"
      ]
     },
     "execution_count": 14,
     "metadata": {},
     "output_type": "execute_result"
    }
   ],
   "source": [
    "#you want to count the number of \"a\" after 5th letter\n",
    "#you want to count the number of \"a\" between the 5th and 10th index\n",
    "str=\"ola ola ola\"\n",
    "str.count('a',5,10)"
   ]
  },
  {
   "cell_type": "code",
   "execution_count": 32,
   "id": "270dcbc1-5f60-464b-8984-27501b6f8aa9",
   "metadata": {},
   "outputs": [
    {
     "data": {
      "text/plain": [
       "2"
      ]
     },
     "execution_count": 32,
     "metadata": {},
     "output_type": "execute_result"
    }
   ],
   "source": [
    "str=\"ola ola ola\"\n",
    "str.count('a',4,11)"
   ]
  },
  {
   "cell_type": "code",
   "execution_count": 31,
   "id": "1d072ecd-20f4-4120-888e-f412db3e5261",
   "metadata": {},
   "outputs": [
    {
     "data": {
      "text/plain": [
       "2"
      ]
     },
     "execution_count": 31,
     "metadata": {},
     "output_type": "execute_result"
    }
   ],
   "source": [
    "str=\"ola ola ola\"\n",
    "str.count('a',4,21)"
   ]
  },
  {
   "cell_type": "code",
   "execution_count": 5,
   "id": "226722d0-49a5-4f9c-8540-f1a5cc80329c",
   "metadata": {},
   "outputs": [
    {
     "name": "stdout",
     "output_type": "stream",
     "text": [
      "3\n"
     ]
    }
   ],
   "source": [
    "count=0\n",
    "str=\"ola ola ola\"\n",
    "str2=\"\"\n",
    "for i in range(len(str)):\n",
    "    if str[i] in \"o\" and str[i+1]==\"l\" and str[i+2]==\"a\":\n",
    "        count=count+1\n",
    "print(count)"
   ]
  },
  {
   "cell_type": "code",
   "execution_count": 13,
   "id": "de3a9220-1e2e-401d-8d51-33088549cac5",
   "metadata": {},
   "outputs": [
    {
     "name": "stdout",
     "output_type": "stream",
     "text": [
      "3\n"
     ]
    }
   ],
   "source": [
    "count=0\n",
    "str=\"ola ola ola\"\n",
    "for i in range(len(str)):\n",
    "    if str[i:i+3]==\"ola\":\n",
    "        count=count+1\n",
    "print(count)"
   ]
  },
  {
   "cell_type": "code",
   "execution_count": 19,
   "id": "e42dc1c8-8dfc-4097-809e-20957b057838",
   "metadata": {},
   "outputs": [
    {
     "name": "stdout",
     "output_type": "stream",
     "text": [
      "3\n"
     ]
    }
   ],
   "source": [
    "count=0\n",
    "str=\"ola ola ola\"\n",
    "for i in range(len(str)):\n",
    "    if str[i:i+len(\"ola\")]==\"ola\":\n",
    "        count=count+1\n",
    "print(count)"
   ]
  },
  {
   "cell_type": "code",
   "execution_count": 21,
   "id": "4eb7f517-ef89-41e4-82df-3eddc8f872fd",
   "metadata": {},
   "outputs": [
    {
     "name": "stdout",
     "output_type": "stream",
     "text": [
      "3\n"
     ]
    }
   ],
   "source": [
    "count=0\n",
    "str=\"ola ola ola\"\n",
    "s=\"ola\"\n",
    "for i in range(len(str)):\n",
    "    if str[i:i+len(s)]==\"ola\":\n",
    "        count=count+1\n",
    "print(count)"
   ]
  },
  {
   "cell_type": "code",
   "execution_count": 24,
   "id": "36d209eb-1814-4691-a423-7b9ae5e2c568",
   "metadata": {},
   "outputs": [
    {
     "data": {
      "text/plain": [
       "3"
      ]
     },
     "execution_count": 24,
     "metadata": {},
     "output_type": "execute_result"
    }
   ],
   "source": [
    "def substring(main_s,s_s):\n",
    "    count=0\n",
    "    for i in range(len(main_s)):\n",
    "        if str[i:i+len(s_s)]==\"ola\":\n",
    "            count=count+1\n",
    "    return(count)\n",
    "count\n"
   ]
  },
  {
   "cell_type": "markdown",
   "id": "977fc36e-e735-4eb2-8891-34be14366c72",
   "metadata": {},
   "source": [
    "**replace**"
   ]
  },
  {
   "cell_type": "code",
   "execution_count": 47,
   "id": "42eaef73-6be9-4d5d-b702-75bb0ea14cdb",
   "metadata": {},
   "outputs": [
    {
     "data": {
      "text/plain": [
       "'heLLo'"
      ]
     },
     "execution_count": 47,
     "metadata": {},
     "output_type": "execute_result"
    }
   ],
   "source": [
    "str='hello'\n",
    "str.replace('l','L')"
   ]
  },
  {
   "cell_type": "code",
   "execution_count": null,
   "id": "4c4c1456-0cfa-47af-a0a0-92a221de147e",
   "metadata": {},
   "outputs": [],
   "source": [
    "- in replace we have count=-1 as default value\n",
    "\n",
    "- which means it will replace all the letter\n",
    "\n",
    "- so if we want to replace only one letter we can give count\n",
    "\n",
    "- / means do not give the argument name directly provide the value"
   ]
  },
  {
   "cell_type": "code",
   "execution_count": 48,
   "id": "21e23045-94af-46d5-838c-f9017b35d4e4",
   "metadata": {},
   "outputs": [
    {
     "data": {
      "text/plain": [
       "'hello'"
      ]
     },
     "execution_count": 48,
     "metadata": {},
     "output_type": "execute_result"
    }
   ],
   "source": [
    "str='hello'\n",
    "str.replace('z','L')"
   ]
  },
  {
   "cell_type": "markdown",
   "id": "b4e9ea6f-06fb-4cfd-af1b-bac2b5c75f1d",
   "metadata": {},
   "source": [
    "- read the doc string carefully\n",
    "\n",
    "- in that it will mention we will get error at particular incident\n",
    "\n",
    "- for count method we will not get any error \n",
    "\n",
    "- there is no substring found , theen ans will be zero\n",
    "\n",
    "- for replace also we will not get any error \n",
    "\n",
    "- if there is no substring found, then the answer will be original string\n",
    " "
   ]
  },
  {
   "cell_type": "markdown",
   "id": "784474e4-0e65-492e-ae88-b02e43408470",
   "metadata": {},
   "source": [
    "**break**"
   ]
  },
  {
   "cell_type": "code",
   "execution_count": 12,
   "id": "8da83538-f561-44da-afd0-f35788d8d3af",
   "metadata": {},
   "outputs": [
    {
     "data": {
      "text/plain": [
       "'resta$t'"
      ]
     },
     "execution_count": 12,
     "metadata": {},
     "output_type": "execute_result"
    }
   ],
   "source": [
    "# wap ask the user replace the string input str: \"restart\"\n",
    "str=\"restart\"\n",
    "str1=str[::-1].replace(\"r\",\"$\",1)\n",
    "str2=str1[::-1]\n",
    "str2"
   ]
  },
  {
   "cell_type": "code",
   "execution_count": 58,
   "id": "935b70ff-13df-4331-9710-01db8e90da64",
   "metadata": {},
   "outputs": [
    {
     "data": {
      "text/plain": [
       "'resta$t'"
      ]
     },
     "execution_count": 58,
     "metadata": {},
     "output_type": "execute_result"
    }
   ],
   "source": [
    "str[::-1].replace(\"r\",\"$\",1)[::-1]"
   ]
  },
  {
   "cell_type": "code",
   "execution_count": 15,
   "id": "4a6ade9d-672c-4fdc-a589-5a890ac6b109",
   "metadata": {},
   "outputs": [
    {
     "data": {
      "text/plain": [
       "'meghan@'"
      ]
     },
     "execution_count": 15,
     "metadata": {},
     "output_type": "execute_result"
    }
   ],
   "source": [
    "str=\"meghana\"\n",
    "str[::-1].replace(\"a\",\"@\",1)[::-1]"
   ]
  },
  {
   "cell_type": "markdown",
   "id": "ef383469-0774-4b7a-a63b-6f9fc0885efb",
   "metadata": {},
   "source": [
    "**index**\n",
    "\n",
    "- index will give index of letter in agiven string\n",
    "\n",
    "- by default it will give the first occurence only\n",
    "\n",
    "- if you want next occerence of teh same letter you need to give start, stop\n",
    "\n",
    "- like we given in count method"
   ]
  },
  {
   "cell_type": "code",
   "execution_count": 59,
   "id": "91678b8e-924b-478f-8519-961bb9ddf636",
   "metadata": {},
   "outputs": [
    {
     "data": {
      "text/plain": [
       "0"
      ]
     },
     "execution_count": 59,
     "metadata": {},
     "output_type": "execute_result"
    }
   ],
   "source": [
    "str=\"restart\"\n",
    "str.index(\"r\")"
   ]
  },
  {
   "cell_type": "code",
   "execution_count": 60,
   "id": "3db7249d-c952-4a6e-9057-9312ea8dea79",
   "metadata": {},
   "outputs": [
    {
     "data": {
      "text/plain": [
       "5"
      ]
     },
     "execution_count": 60,
     "metadata": {},
     "output_type": "execute_result"
    }
   ],
   "source": [
    "str.index('r',1)"
   ]
  },
  {
   "cell_type": "code",
   "execution_count": 6,
   "id": "77ba3a45-71b9-4b46-9520-746578aa743a",
   "metadata": {},
   "outputs": [
    {
     "data": {
      "text/plain": [
       "(1, 5, 9, 13, 17)"
      ]
     },
     "execution_count": 6,
     "metadata": {},
     "output_type": "execute_result"
    }
   ],
   "source": [
    "str=\"hai hai hai hai hai\"\n",
    "i1=str.index(\"a\")\n",
    "i2=str.index(\"a\",i1+1)\n",
    "i3=str.index(\"a\",i2+1)\n",
    "i4=str.index(\"a\",i3+1)\n",
    "i5=str.index(\"a\",i4+1)\n",
    "i1,i2,i3,i4,i5"
   ]
  },
  {
   "cell_type": "code",
   "execution_count": 17,
   "id": "b5643c35-772a-4c38-b64e-0b63ce190ee2",
   "metadata": {},
   "outputs": [],
   "source": [
    "str=\"hai hai hai hai hai\"\n",
    "i1=str.index(\"a\")\n",
    "i2=str.index(\"a\",i1+1)\n",
    "i3=str.index(\"a\",i2+1)\n",
    "i4=str.index(\"a\",i3+1)\n",
    "i5=str.index(\"a\",i4+1)\n",
    "str2=str.index(\"a\",i4+1)"
   ]
  },
  {
   "cell_type": "code",
   "execution_count": null,
   "id": "d70d3779-8aa4-4163-b703-ec418e9fbdd6",
   "metadata": {},
   "outputs": [],
   "source": [
    "count=0\n",
    "str=\"ola ola ola\"\n",
    "str2=\"\"\n",
    "for i in range(len(str)):\n",
    "    if str[i] in \"o\" and str[i+1]==\"l\" and str[i+2]==\"a\":\n",
    "        count=count+1\n",
    "print(count)"
   ]
  },
  {
   "cell_type": "code",
   "execution_count": 2,
   "id": "1d93b5c7-7e9b-49ad-8100-4ec14e5f3271",
   "metadata": {},
   "outputs": [
    {
     "data": {
      "text/plain": [
       "0"
      ]
     },
     "execution_count": 2,
     "metadata": {},
     "output_type": "execute_result"
    }
   ],
   "source": [
    "str=\"python\"\n",
    "str.count(\"a\")"
   ]
  },
  {
   "cell_type": "code",
   "execution_count": 4,
   "id": "a7f5296d-06cc-48ac-a380-d1ccf8020773",
   "metadata": {},
   "outputs": [
    {
     "data": {
      "text/plain": [
       "'python'"
      ]
     },
     "execution_count": 4,
     "metadata": {},
     "output_type": "execute_result"
    }
   ],
   "source": [
    "str=\"python\"\n",
    "str.replace(\"a\",\"z\")"
   ]
  },
  {
   "cell_type": "code",
   "execution_count": 6,
   "id": "8b31731b-6162-47fa-a3b6-c29cb05b86f7",
   "metadata": {},
   "outputs": [
    {
     "ename": "ValueError",
     "evalue": "substring not found",
     "output_type": "error",
     "traceback": [
      "\u001b[1;31m---------------------------------------------------------------------------\u001b[0m",
      "\u001b[1;31mValueError\u001b[0m                                Traceback (most recent call last)",
      "Cell \u001b[1;32mIn[6], line 2\u001b[0m\n\u001b[0;32m      1\u001b[0m \u001b[38;5;28mstr\u001b[39m\u001b[38;5;241m=\u001b[39m\u001b[38;5;124m\"\u001b[39m\u001b[38;5;124mpython\u001b[39m\u001b[38;5;124m\"\u001b[39m\n\u001b[1;32m----> 2\u001b[0m \u001b[38;5;28mstr\u001b[39m\u001b[38;5;241m.\u001b[39mindex(\u001b[38;5;124m'\u001b[39m\u001b[38;5;124mz\u001b[39m\u001b[38;5;124m'\u001b[39m)\n",
      "\u001b[1;31mValueError\u001b[0m: substring not found"
     ]
    }
   ],
   "source": [
    "str=\"python\"\n",
    "str.index('z')\n",
    "\n",
    "#z=substring\n",
    "#z is not present in python"
   ]
  },
  {
   "cell_type": "code",
   "execution_count": 7,
   "id": "9a93d886-fcdc-4e01-b45b-7618f54df854",
   "metadata": {},
   "outputs": [
    {
     "data": {
      "text/plain": [
       "4"
      ]
     },
     "execution_count": 7,
     "metadata": {},
     "output_type": "execute_result"
    }
   ],
   "source": [
    "str=\"hai hai hai hai\"\n",
    "str.count(\"a\") # total \"a\""
   ]
  },
  {
   "cell_type": "markdown",
   "id": "6a171096-6464-4ffe-b9aa-b64527541d1e",
   "metadata": {},
   "source": [
    "$find$"
   ]
  },
  {
   "cell_type": "code",
   "execution_count": 8,
   "id": "bfe045b1-ba87-4c15-a9a1-aaf746bfeab1",
   "metadata": {},
   "outputs": [
    {
     "data": {
      "text/plain": [
       "1"
      ]
     },
     "execution_count": 8,
     "metadata": {},
     "output_type": "execute_result"
    }
   ],
   "source": [
    "str=\"hai hai hai hai\"\n",
    "str.find(\"a\")\n",
    "#index of \"a\"\n",
    "# by default t will give first occurence index"
   ]
  },
  {
   "cell_type": "code",
   "execution_count": 17,
   "id": "af9a8d39-00ea-4547-ab5a-99afff2ab686",
   "metadata": {},
   "outputs": [
    {
     "data": {
      "text/plain": [
       "(1, 5, 9, 13, -1)"
      ]
     },
     "execution_count": 17,
     "metadata": {},
     "output_type": "execute_result"
    }
   ],
   "source": [
    "str=\"hai hai hai hai\"\n",
    "i1=str.find(\"a\")\n",
    "i2=str.find(\"a\",i1+1)\n",
    "i3=str.find(\"a\",i2+1)\n",
    "i4=str.find(\"a\",i3+1)\n",
    "i5=str.find(\"a\",i4+1)\n",
    "i1,i2,i3,i4,i5"
   ]
  },
  {
   "cell_type": "code",
   "execution_count": 14,
   "id": "c49b812c-6d12-49b4-aaa2-2924f3e358b0",
   "metadata": {},
   "outputs": [
    {
     "data": {
      "text/plain": [
       "-1"
      ]
     },
     "execution_count": 14,
     "metadata": {},
     "output_type": "execute_result"
    }
   ],
   "source": [
    "str=\"hai hai hai hai hai\"\n",
    "str.find(\"m\")"
   ]
  },
  {
   "cell_type": "markdown",
   "id": "7c3dd218-5863-433d-8d54-21a72398d88f",
   "metadata": {},
   "source": [
    "**if sub string not found**\n",
    "\n",
    "- shift+tab docstring\n",
    "\n",
    "- count and replace did not mection any error\n",
    "\n",
    "- for inde error is mention \n",
    "\n",
    "- for find it will mection -1\n",
    "\n",
    "- count will give zero\n",
    "\n",
    "- replace will give same string\n",
    "\n",
    "- index will give error\n",
    "\n",
    "- find will give -1"
   ]
  },
  {
   "cell_type": "code",
   "execution_count": 41,
   "id": "aa202901-5baa-4f98-8d81-c38637cfde07",
   "metadata": {},
   "outputs": [
    {
     "data": {
      "text/plain": [
       "('virat', 'kohli', 'rcb')"
      ]
     },
     "execution_count": 41,
     "metadata": {},
     "output_type": "execute_result"
    }
   ],
   "source": [
    "str=\"virat.kohli@rcb.com\"\n",
    "i1=str.find(\".\")\n",
    "i2=str.find(\"@\")\n",
    "i3=str.find(\".\",i1+1)\n",
    "f_name=str[0:i1]\n",
    "s_name=str[i1+1:i2]\n",
    "c_name=str[i2+1:i3]\n",
    "f_name,s_name,c_name"
   ]
  },
  {
   "cell_type": "code",
   "execution_count": 47,
   "id": "749eafa5-a1c6-4677-9b2f-41eb92650bea",
   "metadata": {},
   "outputs": [
    {
     "name": "stdout",
     "output_type": "stream",
     "text": [
      "virat kohli rcb\n"
     ]
    }
   ],
   "source": [
    "def name_extract(name):\n",
    "    i1=str.find(\".\")\n",
    "    i2=str.find(\"@\")\n",
    "    i3=str.find(\".\",i1+1)\n",
    "    f_name=str[0:i1]\n",
    "    s_name=str[i1+1:i2]\n",
    "    c_name=str[i2+1:i3]\n",
    "    print(f_name,s_name,c_name)\n",
    "name_extract(\"virat.kohli@rcb.com\")"
   ]
  },
  {
   "cell_type": "code",
   "execution_count": 45,
   "id": "f6d3e619-ada9-4be4-a1ce-1685bd45e6f3",
   "metadata": {},
   "outputs": [
    {
     "data": {
      "text/plain": [
       "['__add__',\n",
       " '__class__',\n",
       " '__contains__',\n",
       " '__delattr__',\n",
       " '__dir__',\n",
       " '__doc__',\n",
       " '__eq__',\n",
       " '__format__',\n",
       " '__ge__',\n",
       " '__getattribute__',\n",
       " '__getitem__',\n",
       " '__getnewargs__',\n",
       " '__getstate__',\n",
       " '__gt__',\n",
       " '__hash__',\n",
       " '__init__',\n",
       " '__init_subclass__',\n",
       " '__iter__',\n",
       " '__le__',\n",
       " '__len__',\n",
       " '__lt__',\n",
       " '__mod__',\n",
       " '__mul__',\n",
       " '__ne__',\n",
       " '__new__',\n",
       " '__reduce__',\n",
       " '__reduce_ex__',\n",
       " '__repr__',\n",
       " '__rmod__',\n",
       " '__rmul__',\n",
       " '__setattr__',\n",
       " '__sizeof__',\n",
       " '__str__',\n",
       " '__subclasshook__',\n",
       " 'capitalize',\n",
       " 'casefold',\n",
       " 'center',\n",
       " 'count',\n",
       " 'encode',\n",
       " 'endswith',\n",
       " 'expandtabs',\n",
       " 'find',\n",
       " 'format',\n",
       " 'format_map',\n",
       " 'index',\n",
       " 'isalnum',\n",
       " 'isalpha',\n",
       " 'isascii',\n",
       " 'isdecimal',\n",
       " 'isdigit',\n",
       " 'isidentifier',\n",
       " 'islower',\n",
       " 'isnumeric',\n",
       " 'isprintable',\n",
       " 'isspace',\n",
       " 'istitle',\n",
       " 'isupper',\n",
       " 'join',\n",
       " 'ljust',\n",
       " 'lower',\n",
       " 'lstrip',\n",
       " 'maketrans',\n",
       " 'partition',\n",
       " 'removeprefix',\n",
       " 'removesuffix',\n",
       " 'replace',\n",
       " 'rfind',\n",
       " 'rindex',\n",
       " 'rjust',\n",
       " 'rpartition',\n",
       " 'rsplit',\n",
       " 'rstrip',\n",
       " 'split',\n",
       " 'splitlines',\n",
       " 'startswith',\n",
       " 'strip',\n",
       " 'swapcase',\n",
       " 'title',\n",
       " 'translate',\n",
       " 'upper',\n",
       " 'zfill']"
      ]
     },
     "execution_count": 45,
     "metadata": {},
     "output_type": "execute_result"
    }
   ],
   "source": [
    "dir(\"\")"
   ]
  },
  {
   "cell_type": "markdown",
   "id": "2a5a60c7-1d4b-4fc3-90ac-4ac3bd6e6a07",
   "metadata": {},
   "source": [
    "$strip-lstrip-rstrip$"
   ]
  },
  {
   "cell_type": "code",
   "execution_count": 54,
   "id": "8fc661a6-8654-41f6-8352-effb95ac0b78",
   "metadata": {},
   "outputs": [
    {
     "data": {
      "text/plain": [
       "'python'"
      ]
     },
     "execution_count": 54,
     "metadata": {},
     "output_type": "execute_result"
    }
   ],
   "source": [
    "name1=\" python \" \n",
    "name1.strip()"
   ]
  },
  {
   "cell_type": "code",
   "execution_count": 53,
   "id": "dd2eac4c-0c12-48d7-966d-83d27d7dabc4",
   "metadata": {},
   "outputs": [
    {
     "data": {
      "text/plain": [
       "'python'"
      ]
     },
     "execution_count": 53,
     "metadata": {},
     "output_type": "execute_result"
    }
   ],
   "source": [
    "name2=\"python \" \n",
    "name2.rstrip()"
   ]
  },
  {
   "cell_type": "code",
   "execution_count": 52,
   "id": "f8b712e2-e987-47df-b3af-c70a07fd733d",
   "metadata": {},
   "outputs": [
    {
     "data": {
      "text/plain": [
       "'python'"
      ]
     },
     "execution_count": 52,
     "metadata": {},
     "output_type": "execute_result"
    }
   ],
   "source": [
    "name3=\" python\" \n",
    "name3.lstrip()"
   ]
  },
  {
   "cell_type": "code",
   "execution_count": 56,
   "id": "20e83d5e-8c3a-43a4-811b-e73321510dc6",
   "metadata": {},
   "outputs": [
    {
     "data": {
      "text/plain": [
       "('python', 'python', 'python ')"
      ]
     },
     "execution_count": 56,
     "metadata": {},
     "output_type": "execute_result"
    }
   ],
   "source": [
    "name2.strip(),name2.rstrip(),name2.lstrip()"
   ]
  },
  {
   "cell_type": "code",
   "execution_count": 61,
   "id": "e732521b-f965-417d-8e52-2e7b1575b512",
   "metadata": {},
   "outputs": [
    {
     "data": {
      "text/plain": [
       "'python'"
      ]
     },
     "execution_count": 61,
     "metadata": {},
     "output_type": "execute_result"
    }
   ],
   "source": [
    "name4=\" python$$$$$\"\n",
    "name4.strip(\"$, \")"
   ]
  },
  {
   "cell_type": "code",
   "execution_count": 62,
   "id": "a01c7376-cd42-456e-969f-521bc75d1722",
   "metadata": {},
   "outputs": [
    {
     "data": {
      "text/plain": [
       "' python'"
      ]
     },
     "execution_count": 62,
     "metadata": {},
     "output_type": "execute_result"
    }
   ],
   "source": [
    "name4=\" python$$$$$ \"\n",
    "name4.rstrip(\"$, \")"
   ]
  },
  {
   "cell_type": "code",
   "execution_count": 63,
   "id": "2edeafc7-b6c9-4f20-8767-0c19a0d5912a",
   "metadata": {},
   "outputs": [
    {
     "data": {
      "text/plain": [
       "'python$$$$$ '"
      ]
     },
     "execution_count": 63,
     "metadata": {},
     "output_type": "execute_result"
    }
   ],
   "source": [
    "name4=\" python$$$$$ \"\n",
    "name4.lstrip(\"$, \")"
   ]
  },
  {
   "cell_type": "code",
   "execution_count": 64,
   "id": "26cdf455-2cbd-4473-80f1-a5433f46e692",
   "metadata": {},
   "outputs": [
    {
     "data": {
      "text/plain": [
       "'python'"
      ]
     },
     "execution_count": 64,
     "metadata": {},
     "output_type": "execute_result"
    }
   ],
   "source": [
    "name4=\" python$$$$$\"\n",
    "name4.rstrip(\"$\").lstrip()"
   ]
  },
  {
   "cell_type": "markdown",
   "id": "115f4fc9-e147-4eba-9b13-94c538fe5071",
   "metadata": {},
   "source": [
    "$split$"
   ]
  },
  {
   "cell_type": "code",
   "execution_count": 65,
   "id": "7343dd32-ce6b-4bbf-a9da-e10f86acf29e",
   "metadata": {},
   "outputs": [
    {
     "data": {
      "text/plain": [
       "['meghana']"
      ]
     },
     "execution_count": 65,
     "metadata": {},
     "output_type": "execute_result"
    }
   ],
   "source": [
    "name5=\"meghana\"\n",
    "name5.split()"
   ]
  },
  {
   "cell_type": "code",
   "execution_count": 66,
   "id": "4b574c26-03b5-4fb5-8d81-e1bdb1c5de1b",
   "metadata": {},
   "outputs": [
    {
     "data": {
      "text/plain": [
       "['hell', ' h', 'w are y', 'u']"
      ]
     },
     "execution_count": 66,
     "metadata": {},
     "output_type": "execute_result"
    }
   ],
   "source": [
    "str=\"hello how are you\"\n",
    "str.split(\"o\")"
   ]
  },
  {
   "cell_type": "markdown",
   "id": "e900b853-1f64-47a0-9758-49fdebf8fef8",
   "metadata": {},
   "source": [
    "$startswith-endswith$"
   ]
  },
  {
   "cell_type": "code",
   "execution_count": 69,
   "id": "55712a00-9fd5-4022-9422-ca194ce5aba5",
   "metadata": {},
   "outputs": [
    {
     "data": {
      "text/plain": [
       "False"
      ]
     },
     "execution_count": 69,
     "metadata": {},
     "output_type": "execute_result"
    }
   ],
   "source": [
    "name=\"meghana\"\n",
    "name.startswith(\"e\")"
   ]
  },
  {
   "cell_type": "code",
   "execution_count": 71,
   "id": "a416c356-741f-4815-ad36-4329d8b314df",
   "metadata": {},
   "outputs": [
    {
     "data": {
      "text/plain": [
       "True"
      ]
     },
     "execution_count": 71,
     "metadata": {},
     "output_type": "execute_result"
    }
   ],
   "source": [
    "name=\"meghana\"\n",
    "name.endswith(\"a\")"
   ]
  }
 ],
 "metadata": {
  "kernelspec": {
   "display_name": "Python 3 (ipykernel)",
   "language": "python",
   "name": "python3"
  },
  "language_info": {
   "codemirror_mode": {
    "name": "ipython",
    "version": 3
   },
   "file_extension": ".py",
   "mimetype": "text/x-python",
   "name": "python",
   "nbconvert_exporter": "python",
   "pygments_lexer": "ipython3",
   "version": "3.11.7"
  }
 },
 "nbformat": 4,
 "nbformat_minor": 5
}
