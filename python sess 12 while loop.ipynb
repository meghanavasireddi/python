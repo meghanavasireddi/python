{
 "cells": [
  {
   "cell_type": "markdown",
   "id": "91f1b7a1-0aec-4976-bdc9-9acc42b19c6e",
   "metadata": {},
   "source": [
    "**while loop**\n",
    "\n",
    "- if you want apply unlimited iterations then we will choose while loop\n",
    "\n",
    "- any loop we required 3 thngs\n",
    "\n",
    "    - intial point\n",
    " \n",
    "    - condition to stop\n",
    " \n",
    "    - increment or decrement\n",
    " \n",
    "- in for loop we use all these three in single line\n",
    "\n",
    "- in while we will use all these three in three lines "
   ]
  },
  {
   "cell_type": "code",
   "execution_count": 1,
   "id": "394e58b1-3e02-4678-9620-0bb33975eaab",
   "metadata": {},
   "outputs": [],
   "source": [
    "# inital point \n",
    "\n",
    "# while <condition>:\n",
    "#    <statement>\n",
    "#    <increment or decrement>"
   ]
  },
  {
   "cell_type": "code",
   "execution_count": 2,
   "id": "d98e9302-eb87-4e76-bd14-ffde396c7805",
   "metadata": {},
   "outputs": [
    {
     "name": "stdout",
     "output_type": "stream",
     "text": [
      "1 2 3 4 5 "
     ]
    }
   ],
   "source": [
    "i=1\n",
    "while i<6:\n",
    "    print(i,end=' ')\n",
    "    i=i+1"
   ]
  },
  {
   "cell_type": "code",
   "execution_count": 10,
   "id": "29a772c0-7dd0-40ee-ab41-b24faf20984f",
   "metadata": {},
   "outputs": [
    {
     "name": "stdin",
     "output_type": "stream",
     "text": [
      " 1\n"
     ]
    },
    {
     "name": "stdout",
     "output_type": "stream",
     "text": [
      "1 2 3 4 5 6 7 8 9 10 "
     ]
    }
   ],
   "source": [
    "i=eval(input())\n",
    "while i<=10:\n",
    "    print(i,end=' ')\n",
    "    i=i+1"
   ]
  },
  {
   "cell_type": "markdown",
   "id": "ecbfcd28-ce95-40e4-b4fb-7155c43f3f77",
   "metadata": {},
   "source": [
    "**infinite loop**\n",
    "\n",
    "- when ever the infinite loop occurs \n",
    "\n",
    "- appiy the condition and then apply the **break**"
   ]
  },
  {
   "cell_type": "code",
   "execution_count": 3,
   "id": "515a0a28-1f45-48e9-b3cc-41bd0eac04a8",
   "metadata": {},
   "outputs": [
    {
     "name": "stdout",
     "output_type": "stream",
     "text": [
      "1 2 3 4 5 6 7 8 9 10 "
     ]
    }
   ],
   "source": [
    "i=1\n",
    "while i!=0:\n",
    "    print(i,end=' ')\n",
    "    i=i+1\n",
    "    if i==11:\n",
    "        break"
   ]
  },
  {
   "cell_type": "markdown",
   "id": "924b5e7b-33db-4239-9ad4-d1cd2242a94c",
   "metadata": {},
   "source": [
    "**True**\n",
    "\n",
    "- when we want to use infinite iterations we will use True\n",
    "\n",
    "- if we want to stop apply condition and break insde the loop"
   ]
  },
  {
   "cell_type": "code",
   "execution_count": 4,
   "id": "cad353d8-5fb1-47af-9131-d4e93b1e176a",
   "metadata": {},
   "outputs": [
    {
     "name": "stdout",
     "output_type": "stream",
     "text": [
      "1 2 3 4 5 6 7 8 9 10 "
     ]
    }
   ],
   "source": [
    "i=1\n",
    "while True:\n",
    "    print(i,end=' ')\n",
    "    i=i+1\n",
    "    if i==11:\n",
    "        break"
   ]
  },
  {
   "cell_type": "code",
   "execution_count": 5,
   "id": "e44005be-b191-48b2-a7b7-ba96b5c60aa5",
   "metadata": {},
   "outputs": [],
   "source": [
    "#wap to print -1 to -10\n",
    "#using for loop and while loop\n",
    "\n",
    "#wap to print -10 to -1\n",
    "#using for loop and while loop\n",
    "\n",
    "#wap to print 10 to 1\n",
    "#using for loop and while loop"
   ]
  },
  {
   "cell_type": "code",
   "execution_count": 6,
   "id": "f4afce94-aafd-4b59-9dcb-bf7b88b14ea4",
   "metadata": {},
   "outputs": [
    {
     "name": "stdout",
     "output_type": "stream",
     "text": [
      "-10 -9 -8 -7 -6 -5 -4 -3 -2 -1 "
     ]
    }
   ],
   "source": [
    "i=-10\n",
    "while i<=-1:\n",
    "    print(i,end=' ')\n",
    "    i=i+1"
   ]
  },
  {
   "cell_type": "code",
   "execution_count": 7,
   "id": "a07004b0-168e-4b46-8c04-fb2f591ac850",
   "metadata": {},
   "outputs": [
    {
     "name": "stdout",
     "output_type": "stream",
     "text": [
      "-1 -2 -3 -4 -5 -6 -7 -8 -9 -10 "
     ]
    }
   ],
   "source": [
    "i=-1\n",
    "while i>=-10:\n",
    "    print(i,end=' ')\n",
    "    i=i-1"
   ]
  },
  {
   "cell_type": "code",
   "execution_count": 8,
   "id": "6666f002-401e-4594-b9dc-f4de240b8b2d",
   "metadata": {},
   "outputs": [
    {
     "name": "stdout",
     "output_type": "stream",
     "text": [
      "10 9 8 7 6 5 4 3 2 1 "
     ]
    }
   ],
   "source": [
    "i=10\n",
    "while i>=1:\n",
    "    print(i,end=' ')\n",
    "    i=i-1\n",
    "    "
   ]
  },
  {
   "cell_type": "code",
   "execution_count": null,
   "id": "12fdbeec-f37c-4a14-9f98-c0933f7e5f5a",
   "metadata": {},
   "outputs": [],
   "source": [
    " "
   ]
  }
 ],
 "metadata": {
  "kernelspec": {
   "display_name": "Python 3 (ipykernel)",
   "language": "python",
   "name": "python3"
  },
  "language_info": {
   "codemirror_mode": {
    "name": "ipython",
    "version": 3
   },
   "file_extension": ".py",
   "mimetype": "text/x-python",
   "name": "python",
   "nbconvert_exporter": "python",
   "pygments_lexer": "ipython3",
   "version": "3.11.7"
  }
 },
 "nbformat": 4,
 "nbformat_minor": 5
}
